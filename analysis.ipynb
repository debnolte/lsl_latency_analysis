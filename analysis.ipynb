{
 "cells": [
  {
   "cell_type": "markdown",
   "metadata": {},
   "source": [
    "## __XDF latency analysis of LSL data streams: Unity (triggered) vs EEG (measured)__\n",
    "\n",
    "### __Situation__ \n",
    "#### Every 500ms a beep sound is played and the background color changes one frame from black to white.\n",
    "\n",
    "#### __Unity (90 FPS):__\n",
    "- Color change (black or white background)\n",
    "- Beep sound (audio playing or not)\n",
    "\n",
    "#### __EEG (1024 Hz):__\n",
    "- Photodiode (light sensor)\n",
    "- Microphone (audio sensor)\n"
   ]
  },
  {
   "cell_type": "markdown",
   "metadata": {},
   "source": [
    "#### __TODO__\n",
    "* [x] Read XDF file and header and select the right data (timestamps and values)\n",
    "* [x] Compute the timestamps from 0\n",
    "* [x] Visualize the data: unity audio vs microphone and unity color vs photodiode\n",
    "* [x] Compare the timestamps (length, duration, sample count..): Original vs Calculated vs FileInfo\n",
    "* [x] Descriptive statistics of timestamps distribution and plot\n",
    "* [x] Actual latency test: select the microphone and photodiode peaks (starting points) and compare with the unity ones\n",
    "* [x] Test all recordings\n",
    "* [x] Make and test long recordings (half an hour) and check with two computers (local network setup)\n",
    "* [ ] Find out why sometimes Unity timestamps start before the EEG ones\n",
    "* [ ] Find out why sometimes there are two Diode spikes during one colour change\n",
    "* [ ] ..."
   ]
  },
  {
   "cell_type": "markdown",
   "metadata": {},
   "source": [
    "#### __Dependencies__"
   ]
  },
  {
   "cell_type": "code",
   "execution_count": 24,
   "metadata": {},
   "outputs": [],
   "source": [
    "import matplotlib.pyplot as plt\n",
    "import numpy as np\n",
    "import os\n",
    "import pandas as pd\n",
    "import pyxdf\n",
    "from scipy.signal import find_peaks\n",
    "import seaborn as sns"
   ]
  },
  {
   "cell_type": "markdown",
   "metadata": {},
   "source": [
    "#### __Files (recordings)__"
   ]
  },
  {
   "cell_type": "code",
   "execution_count": 25,
   "metadata": {},
   "outputs": [
    {
     "name": "stdout",
     "output_type": "stream",
     "text": [
      "recordings[0] = final_test.xdf\n",
      "recordings[1] = ftest1.xdf\n",
      "recordings[2] = ftest2.xdf\n",
      "recordings[3] = ftest3.xdf\n",
      "recordings[4] = ftest_build1.xdf\n",
      "recordings[5] = ftest_build2.xdf\n",
      "recordings[6] = ftest_build3.xdf\n",
      "recordings[7] = ftest_lsl12.xdf\n",
      "recordings[8] = long2.xdf\n",
      "recordings[9] = long3.xdf\n",
      "recordings[10] = long4.xdf\n",
      "recordings[11] = short_new.xdf\n",
      "recordings[12] = short_test.xdf\n",
      "recordings[13] = short_test_old1.xdf\n",
      "recordings[14] = test.xdf\n"
     ]
    }
   ],
   "source": [
    "files = os.listdir(\"data\")  # get all files from the folder \"data\"\n",
    "files.sort()  # sort them alphabetically\n",
    "recordings = []\n",
    "\n",
    "for file in files:\n",
    "    if file.startswith(\".\"):  # filter hidden/config files\n",
    "        files.remove(file)  # remove hidden/config file\n",
    "\n",
    "for i, file in enumerate(files):  # store and display all files\n",
    "    recordings.append(file)\n",
    "    print(f\"recordings[{i}] = {file}\")"
   ]
  },
  {
   "cell_type": "markdown",
   "metadata": {},
   "source": [
    "#### __Helper functions__"
   ]
  },
  {
   "cell_type": "code",
   "execution_count": 26,
   "metadata": {},
   "outputs": [],
   "source": [
    "a_ch_name = \"Audio\"\n",
    "c_ch_name = \"Diode\"\n",
    "e_ch_name = \"openvibeSignal\"\n",
    "\n",
    "\n",
    "def select_streams(data):\n",
    "    global s_channels\n",
    "    s_channels = {data[i][\"info\"][\"name\"][0]: i for i in range(len(data))}\n",
    "\n",
    "    # Time values\n",
    "    a = s_channels[a_ch_name]  # unity audio stream channel\n",
    "    c = s_channels[c_ch_name]  # unity color stream channel\n",
    "    e = s_channels[e_ch_name]  # eeg stream channel (diode and microphone)\n",
    "    return a, c, e"
   ]
  },
  {
   "cell_type": "markdown",
   "metadata": {},
   "source": [
    "#### __Checking if EEG data was received before Unity data for all recordings__"
   ]
  },
  {
   "cell_type": "code",
   "execution_count": 27,
   "metadata": {},
   "outputs": [
    {
     "name": "stdout",
     "output_type": "stream",
     "text": [
      "EEG received first (✔/✗):\n",
      "✔ final_test.xdf\n",
      "✔ ftest1.xdf\n",
      "✔ ftest2.xdf\n",
      "✔ ftest3.xdf\n",
      "✔ ftest_build1.xdf\n",
      "✔ ftest_build2.xdf\n",
      "✔ ftest_build3.xdf\n",
      "✔ ftest_lsl12.xdf\n",
      "✔ long2.xdf\n",
      "✗ long3.xdf\n",
      "✔ long4.xdf\n",
      "✗ short_new.xdf\n",
      "✔ short_test.xdf\n",
      "✔ short_test_old1.xdf\n",
      "✔ test.xdf\n"
     ]
    }
   ],
   "source": [
    "print(\"EEG received first (✔/✗):\")\n",
    "for file in recordings:  # check all files\n",
    "    streams, fileheader = pyxdf.load_xdf(f\"data/{file}\")  # load a XDF file\n",
    "    a_ch, c_ch, e_ch = select_streams(streams)  # select the data stream channels\n",
    "    a_t = streams[a_ch][\"time_stamps\"][0]  # get the first unity timestamp\n",
    "    e_t = streams[e_ch][\"time_stamps\"][0]  # get the first eeg timestamp\n",
    "    if a_t - e_t < 0:  # unity received first (negative difference)\n",
    "        print(f\"✗ {file}\")\n",
    "    else:  # eeg received first (positive difference)\n",
    "        print(f\"✔ {file}\")"
   ]
  },
  {
   "cell_type": "markdown",
   "metadata": {},
   "source": [
    "#### __Read XDF data__"
   ]
  },
  {
   "cell_type": "code",
   "execution_count": 28,
   "metadata": {},
   "outputs": [
    {
     "name": "stdout",
     "output_type": "stream",
     "text": [
      "File: short_new.xdf\n"
     ]
    },
    {
     "data": {
      "text/plain": [
       "{'info': defaultdict(list, {'version': ['1.0']})}"
      ]
     },
     "execution_count": 28,
     "metadata": {},
     "output_type": "execute_result"
    }
   ],
   "source": [
    "file = recordings[11]  # select a file\n",
    "print(f\"File: {file}\")  # display the file name\n",
    "streams, fileheader = pyxdf.load_xdf(f\"data/{file}\")  # load the XDF file\n",
    "fileheader  # just a dict describing the version and format of the XDF file"
   ]
  },
  {
   "cell_type": "markdown",
   "metadata": {},
   "source": [
    "#### __Automatically select the stream channels__"
   ]
  },
  {
   "cell_type": "code",
   "execution_count": 29,
   "metadata": {},
   "outputs": [
    {
     "data": {
      "text/plain": [
       "{'openvibeSignal': 0, 'Audio': 1, 'Diode': 2}"
      ]
     },
     "execution_count": 29,
     "metadata": {},
     "output_type": "execute_result"
    }
   ],
   "source": [
    "a_ch, c_ch, e_ch = select_streams(streams)\n",
    "s_channels"
   ]
  },
  {
   "cell_type": "markdown",
   "metadata": {},
   "source": [
    "#### __Read EEG and Unity timestamps and sensor data__"
   ]
  },
  {
   "cell_type": "code",
   "execution_count": 30,
   "metadata": {
    "slideshow": {
     "slide_type": "slide"
    }
   },
   "outputs": [],
   "source": [
    "u_ts = streams[a_ch][\"time_stamps\"]  # unity timestamps\n",
    "e_ts = streams[e_ch][\"time_stamps\"]  # eeg timestamps\n",
    "\n",
    "# Diode values\n",
    "eeg = np.transpose(streams[e_ch][\"time_series\"])\n",
    "\n",
    "# select the photodiode and microphone sensor information\n",
    "# there's recordings with diode data on channels 65 and 66\n",
    "# so we check which is the right one for this recording\n",
    "if max(eeg[64]) != 0.0:\n",
    "    e_color = eeg[64]  # channel 65 of the ANT amplifier\n",
    "else:\n",
    "    e_color = eeg[65]  # channel 66 of the ANT amplifier\n",
    "\n",
    "e_audio = eeg[69]  # channel 70 of the ANT amplifier\n",
    "\n",
    "# select unity audio and background color change markers\n",
    "# format: [currentFrame, value, timestamp]\n",
    "u_color = np.transpose(streams[c_ch][\"time_series\"])\n",
    "u_audio = np.transpose(streams[a_ch][\"time_series\"])\n",
    "\n",
    "e_color = -e_color  # invert diode data polarity, easier to visualize"
   ]
  },
  {
   "cell_type": "markdown",
   "metadata": {},
   "source": [
    "#### __Preprocess data: calculate meaningful timestamps__"
   ]
  },
  {
   "cell_type": "code",
   "execution_count": 31,
   "metadata": {
    "slideshow": {
     "slide_type": "slide"
    }
   },
   "outputs": [
    {
     "name": "stdout",
     "output_type": "stream",
     "text": [
      "Unity data received first ✗\n"
     ]
    }
   ],
   "source": [
    "# calculate time values for unity and eeg from 0\n",
    "e_time = [0]\n",
    "length = len(e_ts)\n",
    "[e_time.append(e_ts[i + 1] - e_ts[0]) for i in range(length) if i < length - 1]\n",
    "\n",
    "u_time = [0]\n",
    "length = len(u_ts)\n",
    "[u_time.append(u_ts[i + 1] - u_ts[0]) for i in range(length) if i < length - 1]\n",
    "\n",
    "# calculate the diff and shift the values left (negative) or right (positive)\n",
    "diff = u_ts[0] - e_ts[0]\n",
    "u_time = [i + diff for i in u_time]\n",
    "\n",
    "# if diff is negative unity data was received before eeg\n",
    "if diff < 0:\n",
    "    print(\"Unity data received first ✗\")\n",
    "    if diff < -0.98: #so if the difference cannot be explained by normal EEG sampling\n",
    "        print(\"Something went wrong with this recording\")\n",
    "else:\n",
    "    print(\"EEG data received first ✔\")"
   ]
  },
  {
   "cell_type": "markdown",
   "metadata": {},
   "source": [
    "#### __Data preview__"
   ]
  },
  {
   "cell_type": "code",
   "execution_count": 68,
   "metadata": {
    "slideshow": {
     "slide_type": "slide"
    }
   },
   "outputs": [
    {
     "data": {
      "image/png": "[encoded data removed]",
      "text/plain": [
       "<Figure size 1008x360 with 1 Axes>"
      ]
     },
     "metadata": {},
     "output_type": "display_data"
    }
   ],
   "source": [
    "# interactive: widget, not interactive: inline\n",
    "%matplotlib inline \n",
    "sns.set(rc={\"figure.figsize\": (14, 5)})  # set figure size\n",
    "sns.set_style(\"darkgrid\")  # set seaborn plotting style\n",
    "\n",
    "f_n = -0.2  # starting point (s)\n",
    "s_n = 0.1 # ending point (s)\n",
    "\n",
    "start_e = 1024 * f_n  # eeg sampling rate = 1024\n",
    "start_u = 90 * f_n  # unity sampling rate = 90\n",
    "\n",
    "five_sec = 1024 * s_n  # N of eeg in 5 s\n",
    "f_sec = 90 * s_n  # N of unity in 5 s\n",
    "u_height = 3500  # factor to improve unity (true/1) values visualization\n",
    "e_t = np.array(e_time)\n",
    "u_t = np.array(u_time)\n",
    "\n",
    "# select range of timestamps, diode and microphone values (eeg)\n",
    "e_time_selection = e_t[(e_t > f_n) & (e_t < s_n)]\n",
    "e_color_selection = e_color[(e_t > f_n) & (e_t < s_n)]\n",
    "e_audio_selection = e_audio[(e_t > f_n) & (e_t < s_n)]\n",
    "\n",
    "# select a range of timestamps, color and audio values (unity)\n",
    "u_time_selection = u_t[(u_t > f_n) & (u_t < s_n)]\n",
    "u_color_selection = u_color[(u_t > f_n) & (u_t < s_n)]\n",
    "u_audio_selection = u_audio[1][(u_t > f_n) & (u_t < s_n)]\n",
    "\n",
    "# plot the selected range to compare eeg vs unity values\n",
    "plt.plot(e_time_selection, e_color_selection * 0.05)\n",
    "plt.plot(e_time_selection, e_audio_selection)\n",
    "plt.plot(u_time_selection, u_color_selection * u_height, marker=\"o\")\n",
    "plt.plot(u_time_selection, u_audio_selection * u_height, marker=\"x\")\n",
    "\n",
    "plt.title(f\"Sample: N = {five_sec}\")\n",
    "plt.ylabel(\"Sensor value\")\n",
    "plt.xlabel(\"Time (s)\")\n",
    "plt.xticks(np.arange(f_n, s_n, step=0.5))\n",
    "labels = [\"photosensor\", \"microphone\", \"color\", \"audio\"]\n",
    "plt.legend(labels, loc=\"upper right\")  # set the legend\n",
    "plt.show()"
   ]
  },
  {
   "cell_type": "markdown",
   "metadata": {},
   "source": [
    "#### __Timestamps comparison (original vs computed vs file info)__"
   ]
  },
  {
   "cell_type": "code",
   "execution_count": 69,
   "metadata": {},
   "outputs": [
    {
     "name": "stdout",
     "output_type": "stream",
     "text": [
      "Original timestamps\n",
      "===================\n",
      "EEG first timestamp: 2896.829572491063\n",
      "EEG last timestamp: 2961.329951709267\n",
      "EEG length: 64.50037921820376\n",
      "EEG sample count: 66048\n",
      "Unity first timestamp: 2896.824495070672\n",
      "Unity last timestamp: 2961.3178294674435\n",
      "Unity length: 64.49333439677139\n",
      "Unity sample count: 5806\n",
      "Start difference: 0.005077420390989573\n",
      "Length difference: 0.007044821432373283\n",
      "\n",
      "Computed timestamps\n",
      "====================\n",
      "EEG first timestamp: 0\n",
      "EEG last timestamp: 64.50037921820376\n",
      "EEG length: 64.50037921820376\n",
      "EEG sample count: 66048\n",
      "Unity first timestamp: -0.005077420390989573\n",
      "Unity last timestamp: 64.4882569763804\n",
      "Unity length: 64.49333439677139\n",
      "Unity sample count: 5806\n",
      "Start difference: 0.005077420390989573\n",
      "Length difference: 0.007044821432373283\n",
      "\n",
      "File info\n",
      "========\n",
      "EEG stream created at: 2865.822203900000\n",
      "Unity stream created at: 74999.42783250001\n",
      "EEG first timestamp: 2896.8412703\n",
      "EEG last timestamp: 2961.3132359\n",
      "EEG sample count: 66047\n",
      "Unity first timestamp: 75012.3227705\n",
      "Unity last timestamp: 75076.8157208\n",
      "Unity sample count: 5805\n"
     ]
    }
   ],
   "source": [
    "# store unity and eeg timestamps as pandas series\n",
    "# dataframe is not needed since it's 1D array\n",
    "\n",
    "eeg_t = pd.Series(streams[e_ch][\"time_stamps\"])\n",
    "unity_t = pd.Series(streams[a_ch][\"time_stamps\"])\n",
    "\n",
    "print(\"Original timestamps\")\n",
    "print(\"===================\")\n",
    "u_start = u_ts[0]\n",
    "u_end = u_ts[-1]\n",
    "e_start = e_ts[0]\n",
    "e_end = e_ts[-1]\n",
    "u_length = u_end - u_start\n",
    "e_length = e_end - e_start\n",
    "print(f\"EEG first timestamp: {e_start}\")\n",
    "print(f\"EEG last timestamp: {e_end}\")\n",
    "print(f\"EEG length: {e_length}\")\n",
    "print(f\"EEG sample count: {len(e_ts)}\")\n",
    "print(f\"Unity first timestamp: {u_start}\")\n",
    "print(f\"Unity last timestamp: {u_end}\")\n",
    "print(f\"Unity length: {u_length}\")\n",
    "print(f\"Unity sample count: {len(u_ts)}\")\n",
    "print(f\"Start difference: {abs(u_start - e_start)}\")\n",
    "print(f\"Length difference: {abs(u_length - e_length)}\")\n",
    "\n",
    "print(\"\")\n",
    "\n",
    "print(\"Computed timestamps\")\n",
    "print(\"====================\")\n",
    "u_start = u_time[0]\n",
    "# [-1:] returns the index and the type as well but [-1:].values[0] also works\n",
    "u_end = u_time[-1]\n",
    "e_start = e_time[0]\n",
    "e_end = e_time[-1]\n",
    "u_length = u_end - u_start\n",
    "e_length = e_end - e_start\n",
    "print(f\"EEG first timestamp: {e_start}\")\n",
    "print(f\"EEG last timestamp: {e_end}\")\n",
    "print(f\"EEG length: {e_length}\")\n",
    "print(f\"EEG sample count: {len(e_time)}\")\n",
    "print(f\"Unity first timestamp: {u_start}\")\n",
    "print(f\"Unity last timestamp: {u_end}\")\n",
    "print(f\"Unity length: {u_length}\")\n",
    "print(f\"Unity sample count: {len(u_time)}\")\n",
    "print(f\"Start difference: {abs(u_start - e_start)}\")\n",
    "print(f\"Length difference: {abs(u_length - e_length)}\")\n",
    "\n",
    "print(\"\")\n",
    "\n",
    "print(\"File info\")\n",
    "print(\"========\")\n",
    "e_info = streams[e_ch][\"info\"]\n",
    "e_footer = streams[e_ch][\"footer\"][\"info\"]\n",
    "u_info = streams[a_ch][\"info\"]\n",
    "u_footer = streams[a_ch][\"footer\"][\"info\"]\n",
    "\n",
    "print(f\"EEG stream created at: {e_info['created_at'][0]}\")\n",
    "print(f\"Unity stream created at: {u_info['created_at'][0]}\")\n",
    "print(f\"EEG first timestamp: {e_footer['first_timestamp'][0]}\")\n",
    "print(f\"EEG last timestamp: {e_footer['last_timestamp'][0]}\")\n",
    "print(f\"EEG sample count: {e_footer['sample_count'][0]}\")\n",
    "print(f\"Unity first timestamp: {u_footer['first_timestamp'][0]}\")\n",
    "print(f\"Unity last timestamp: {u_footer['last_timestamp'][0]}\")\n",
    "print(f\"Unity sample count: {u_footer['sample_count'][0]}\")"
   ]
  },
  {
   "cell_type": "markdown",
   "metadata": {},
   "source": [
    "#### __Descriptive statistics: EEG timestamps__"
   ]
  },
  {
   "cell_type": "code",
   "execution_count": 70,
   "metadata": {},
   "outputs": [
    {
     "data": {
      "text/html": [
       "<div>\n",
       "<style scoped>\n",
       "    .dataframe tbody tr th:only-of-type {\n",
       "        vertical-align: middle;\n",
       "    }\n",
       "\n",
       "    .dataframe tbody tr th {\n",
       "        vertical-align: top;\n",
       "    }\n",
       "\n",
       "    .dataframe thead th {\n",
       "        text-align: right;\n",
       "    }\n",
       "</style>\n",
       "<table border=\"1\" class=\"dataframe\">\n",
       "  <thead>\n",
       "    <tr style=\"text-align: right;\">\n",
       "      <th></th>\n",
       "      <th>eeg</th>\n",
       "    </tr>\n",
       "  </thead>\n",
       "  <tbody>\n",
       "    <tr>\n",
       "      <th>count</th>\n",
       "      <td>6.604700e+04</td>\n",
       "    </tr>\n",
       "    <tr>\n",
       "      <th>mean</th>\n",
       "      <td>9.765830e-04</td>\n",
       "    </tr>\n",
       "    <tr>\n",
       "      <th>std</th>\n",
       "      <td>2.271974e-13</td>\n",
       "    </tr>\n",
       "    <tr>\n",
       "      <th>min</th>\n",
       "      <td>9.765830e-04</td>\n",
       "    </tr>\n",
       "    <tr>\n",
       "      <th>25%</th>\n",
       "      <td>9.765830e-04</td>\n",
       "    </tr>\n",
       "    <tr>\n",
       "      <th>50%</th>\n",
       "      <td>9.765830e-04</td>\n",
       "    </tr>\n",
       "    <tr>\n",
       "      <th>75%</th>\n",
       "      <td>9.765830e-04</td>\n",
       "    </tr>\n",
       "    <tr>\n",
       "      <th>max</th>\n",
       "      <td>9.765830e-04</td>\n",
       "    </tr>\n",
       "  </tbody>\n",
       "</table>\n",
       "</div>"
      ],
      "text/plain": [
       "                eeg\n",
       "count  6.604700e+04\n",
       "mean   9.765830e-04\n",
       "std    2.271974e-13\n",
       "min    9.765830e-04\n",
       "25%    9.765830e-04\n",
       "50%    9.765830e-04\n",
       "75%    9.765830e-04\n",
       "max    9.765830e-04"
      ]
     },
     "execution_count": 70,
     "metadata": {},
     "output_type": "execute_result"
    }
   ],
   "source": [
    "e_time_dist = [e_ts[i + 1] - e_ts[i] for i in range(len(e_ts) - 1)]\n",
    "u_time_dist = [u_ts[i + 1] - u_ts[i] for i in range(len(u_ts) - 1)]\n",
    "\n",
    "e_time_dist = pd.DataFrame(np.array(e_time_dist), columns=[\"eeg\"])\n",
    "u_time_dist = pd.DataFrame(np.array(u_time_dist), columns=[\"unity\"])\n",
    "\n",
    "e_time_dist.describe()"
   ]
  },
  {
   "cell_type": "markdown",
   "metadata": {},
   "source": [
    "The EEG samples look really constant over time\n",
    "\n",
    "#### __Descriptive statistics: Unity timestamps__"
   ]
  },
  {
   "cell_type": "code",
   "execution_count": 71,
   "metadata": {},
   "outputs": [
    {
     "data": {
      "text/html": [
       "<div>\n",
       "<style scoped>\n",
       "    .dataframe tbody tr th:only-of-type {\n",
       "        vertical-align: middle;\n",
       "    }\n",
       "\n",
       "    .dataframe tbody tr th {\n",
       "        vertical-align: top;\n",
       "    }\n",
       "\n",
       "    .dataframe thead th {\n",
       "        text-align: right;\n",
       "    }\n",
       "</style>\n",
       "<table border=\"1\" class=\"dataframe\">\n",
       "  <thead>\n",
       "    <tr style=\"text-align: right;\">\n",
       "      <th></th>\n",
       "      <th>unity</th>\n",
       "    </tr>\n",
       "  </thead>\n",
       "  <tbody>\n",
       "    <tr>\n",
       "      <th>count</th>\n",
       "      <td>5805.000000</td>\n",
       "    </tr>\n",
       "    <tr>\n",
       "      <th>mean</th>\n",
       "      <td>0.011110</td>\n",
       "    </tr>\n",
       "    <tr>\n",
       "      <th>std</th>\n",
       "      <td>0.000864</td>\n",
       "    </tr>\n",
       "    <tr>\n",
       "      <th>min</th>\n",
       "      <td>0.000025</td>\n",
       "    </tr>\n",
       "    <tr>\n",
       "      <th>25%</th>\n",
       "      <td>0.011064</td>\n",
       "    </tr>\n",
       "    <tr>\n",
       "      <th>50%</th>\n",
       "      <td>0.011107</td>\n",
       "    </tr>\n",
       "    <tr>\n",
       "      <th>75%</th>\n",
       "      <td>0.011150</td>\n",
       "    </tr>\n",
       "    <tr>\n",
       "      <th>max</th>\n",
       "      <td>0.022229</td>\n",
       "    </tr>\n",
       "  </tbody>\n",
       "</table>\n",
       "</div>"
      ],
      "text/plain": [
       "             unity\n",
       "count  5805.000000\n",
       "mean      0.011110\n",
       "std       0.000864\n",
       "min       0.000025\n",
       "25%       0.011064\n",
       "50%       0.011107\n",
       "75%       0.011150\n",
       "max       0.022229"
      ]
     },
     "execution_count": 71,
     "metadata": {},
     "output_type": "execute_result"
    }
   ],
   "source": [
    "u_time_dist.describe()"
   ]
  },
  {
   "cell_type": "markdown",
   "metadata": {},
   "source": [
    "It does not seem the case for the unity samples\n",
    "#### __Time sampling plot comparison__"
   ]
  },
  {
   "cell_type": "code",
   "execution_count": 72,
   "metadata": {},
   "outputs": [
    {
     "data": {
      "image/png": "[encoded data removed]",
      "text/plain": [
       "<Figure size 216x648 with 1 Axes>"
      ]
     },
     "metadata": {},
     "output_type": "display_data"
    }
   ],
   "source": [
    "%matplotlib inline\n",
    "sns.set(rc={\"figure.figsize\": (3, 9)})  # set figure size\n",
    "sns.set_style(\"whitegrid\")  # set seaborn plotting style\n",
    "p = sns.boxplot(x=u_time_dist, orient=\"v\")\n",
    "p.set_title(\"Time distribution (s)\")\n",
    "plt.show()"
   ]
  },
  {
   "cell_type": "markdown",
   "metadata": {},
   "source": [
    "#### __Calculating the Latencies__"
   ]
  },
  {
   "cell_type": "markdown",
   "metadata": {},
   "source": [
    "###### __Diode__"
   ]
  },
  {
   "cell_type": "code",
   "execution_count": 88,
   "metadata": {},
   "outputs": [
    {
     "name": "stdout",
     "output_type": "stream",
     "text": [
      "[0.36199287]\n"
     ]
    }
   ],
   "source": [
    "# get all the first peaks of each of the four recordings\n",
    "e_col_peaks = find_peaks(e_color, height=10000, distance=400)\n",
    "# here the len of unity is one longer than the len of\n",
    "u_col_peaks = find_peaks(u_color)\n",
    "\n",
    "# since we are only intersted in the position of the peaks not the height, lets only take the first column\n",
    "ec_peak = e_col_peaks[0]\n",
    "uc_peak = u_col_peaks[0]\n",
    "\n",
    "# now we have the column where the peak occurs, now we need the corresponding time stamp\n",
    "ec_time = [e_time[e] for e in ec_peak]\n",
    "uc_time = [u_time[e] for e in uc_peak]\n",
    "\n",
    "# calculate the differneces between EEG and unity\n",
    "c_diff = np.empty(len(uc_time))\n",
    "c_diff[:] = np.nan\n",
    "c_diff = []\n",
    "length = len(uc_time)\n",
    "# to make sure we do not start with j = 0 if EEG starts before Unity\n",
    "if np.array(uc_time)[0] > 0.25:\n",
    "    j = 1\n",
    "else:\n",
    "    j = 0\n",
    "\n",
    "for i in range(length):\n",
    "    if (uc_time[i] - ec_time[j] > -0.25) and (uc_time[i] - ec_time[j] < 0):\n",
    "        # add the difference between EEG and unity peak\n",
    "        c_diff.append(uc_time[i] - ec_time[j])\n",
    "        if j < len(ec_time):\n",
    "            j = j + 1\n",
    "    else:\n",
    "        # add nan if there is no EEG peak\n",
    "        c_diff.append(np.nan)\n",
    "\n",
    "# check the nan values (and compare them to the graph)\n",
    "nan_val = []\n",
    "# get the indices of all nan values so we can check if there a diode is actually missing\n",
    "nan_val.append(np.argwhere(np.isnan(c_diff)))\n",
    "n = np.ravel(nan_val)  # to make it look nicer\n",
    "# contains the untiy timestamps when the diode is missing --> to check in graph\n",
    "time_st = np.array(uc_time)[np.array(n)]\n",
    "print(time_st)"
   ]
  },
  {
   "cell_type": "markdown",
   "metadata": {},
   "source": [
    "###### __Speaker__"
   ]
  },
  {
   "cell_type": "code",
   "execution_count": 93,
   "metadata": {},
   "outputs": [
    {
     "name": "stdout",
     "output_type": "stream",
     "text": [
      "[]\n"
     ]
    }
   ],
   "source": [
    "# get all the first peaks of each of the four recordings\n",
    "e_audio_peaks = find_peaks(e_audio, height=2100, distance=400)\n",
    "# here the len of unity is one longer than the len of\n",
    "u_audio_peaks = find_peaks(u_audio[1])\n",
    "\n",
    "# since we are only intersted in the position of the peaks not the height, lets only take the first column\n",
    "ea_peak = e_audio_peaks[0]\n",
    "ua_peak = u_audio_peaks[0]\n",
    "\n",
    "# now we have the column where the peak occurs, now we need the corresponding time stamp\n",
    "ea_time = [e_time[e] for e in ea_peak]\n",
    "ua_time = [u_time[e] for e in ua_peak]\n",
    "\n",
    "# calculate the differneces between EEG and unity\n",
    "a_diff = []\n",
    "length = len(ua_time)\n",
    "# to make sure we do not start with j = 0 if EEG starts before Unity\n",
    "if np.array(uc_time)[0] > 0.25:\n",
    "    j = 1\n",
    "else:\n",
    "    j = 0\n",
    "for i in range(length):\n",
    "    if (ua_time[i] - ea_time[j] > -0.3) and (ua_time[i] - ea_time[j] < 0):\n",
    "        # print(uc_time[i] - ec_time[j])\n",
    "        a_diff.append(ua_time[i] - ea_time[j])\n",
    "        if j < len(ea_time):\n",
    "            j = j + 1\n",
    "    else:\n",
    "        a_diff.append(np.nan)\n",
    "\n",
    "nan_val = []\n",
    "# get the indices of all nan values so we can check if there a diode is actually missing\n",
    "nan_val.append(np.argwhere(np.isnan(a_diff)))\n",
    "n = np.ravel(nan_val)  # to make it look nicer\n",
    "time_st = np.array(ua_time)[np.array(n)]  # contains the untiy timestamps when the diode is missing --> to check in graph\n",
    "print(time_st)"
   ]
  },
  {
   "cell_type": "markdown",
   "metadata": {},
   "source": [
    "#### __Data Preview__ "
   ]
  },
  {
   "cell_type": "code",
   "execution_count": 94,
   "metadata": {},
   "outputs": [
    {
     "data": {
      "image/png": "[encoded data removed]",
      "text/plain": [
       "<Figure size 1008x360 with 1 Axes>"
      ]
     },
     "metadata": {},
     "output_type": "display_data"
    }
   ],
   "source": [
    "# interactive: widget, not interactive: inline\n",
    "%matplotlib inline \n",
    "sns.set(rc={\"figure.figsize\": (14, 5)})  # set figure size\n",
    "sns.set_style(\"darkgrid\")  # set seaborn plotting style\n",
    "\n",
    "f_n = 0.2  # starting point (s)\n",
    "s_n = 0.5 # ending point (s)\n",
    "\n",
    "start_e = 1024 * f_n  # eeg sampling rate = 1024\n",
    "start_u = 90 * f_n  # unity sampling rate = 90\n",
    "\n",
    "five_sec = 1024 * s_n  # N of eeg in 5 s\n",
    "f_sec = 90 * s_n  # N of unity in 5 s\n",
    "u_height = 3500  # factor to improve unity (true/1) values visualization\n",
    "e_t = np.array(e_time)\n",
    "u_t = np.array(u_time)\n",
    "\n",
    "# select range of timestamps, diode and microphone values (eeg)\n",
    "e_time_selection = e_t[(e_t > f_n) & (e_t < s_n)]\n",
    "e_color_selection = e_color[(e_t > f_n) & (e_t < s_n)]\n",
    "e_audio_selection = e_audio[(e_t > f_n) & (e_t < s_n)]\n",
    "\n",
    "# select a range of timestamps, color and audio values (unity)\n",
    "u_time_selection = u_t[(u_t > f_n) & (u_t < s_n)]\n",
    "u_color_selection = u_color[(u_t > f_n) & (u_t < s_n)]\n",
    "u_audio_selection = u_audio[1][(u_t > f_n) & (u_t < s_n)]\n",
    "\n",
    "# plot the selected range to compare eeg vs unity values\n",
    "plt.plot(e_time_selection, e_color_selection * 0.05)\n",
    "plt.plot(e_time_selection, e_audio_selection)\n",
    "plt.plot(u_time_selection, u_color_selection * u_height, marker=\"o\")\n",
    "plt.plot(u_time_selection, u_audio_selection * u_height, marker=\"x\")\n",
    "\n",
    "plt.title(f\"Sample: N = {five_sec}\")\n",
    "plt.ylabel(\"Sensor value\")\n",
    "plt.xlabel(\"Time (s)\")\n",
    "plt.xticks(np.arange(f_n, s_n, step=0.5))\n",
    "labels = [\"photosensor\", \"microphone\", \"color\", \"audio\"]\n",
    "plt.legend(labels, loc=\"upper right\")  # set the legend\n",
    "plt.show()"
   ]
  },
  {
   "cell_type": "markdown",
   "metadata": {},
   "source": [
    "#### __Descriptive Statistics__ "
   ]
  },
  {
   "cell_type": "code",
   "execution_count": 95,
   "metadata": {},
   "outputs": [
    {
     "data": {
      "text/html": [
       "<div>\n",
       "<style scoped>\n",
       "    .dataframe tbody tr th:only-of-type {\n",
       "        vertical-align: middle;\n",
       "    }\n",
       "\n",
       "    .dataframe tbody tr th {\n",
       "        vertical-align: top;\n",
       "    }\n",
       "\n",
       "    .dataframe thead th {\n",
       "        text-align: right;\n",
       "    }\n",
       "</style>\n",
       "<table border=\"1\" class=\"dataframe\">\n",
       "  <thead>\n",
       "    <tr style=\"text-align: right;\">\n",
       "      <th></th>\n",
       "      <th>0</th>\n",
       "    </tr>\n",
       "  </thead>\n",
       "  <tbody>\n",
       "    <tr>\n",
       "      <th>count</th>\n",
       "      <td>125.000000</td>\n",
       "    </tr>\n",
       "    <tr>\n",
       "      <th>mean</th>\n",
       "      <td>-0.076154</td>\n",
       "    </tr>\n",
       "    <tr>\n",
       "      <th>std</th>\n",
       "      <td>0.000287</td>\n",
       "    </tr>\n",
       "    <tr>\n",
       "      <th>min</th>\n",
       "      <td>-0.076698</td>\n",
       "    </tr>\n",
       "    <tr>\n",
       "      <th>25%</th>\n",
       "      <td>-0.076376</td>\n",
       "    </tr>\n",
       "    <tr>\n",
       "      <th>50%</th>\n",
       "      <td>-0.076160</td>\n",
       "    </tr>\n",
       "    <tr>\n",
       "      <th>75%</th>\n",
       "      <td>-0.075914</td>\n",
       "    </tr>\n",
       "    <tr>\n",
       "      <th>max</th>\n",
       "      <td>-0.075392</td>\n",
       "    </tr>\n",
       "  </tbody>\n",
       "</table>\n",
       "</div>"
      ],
      "text/plain": [
       "                0\n",
       "count  125.000000\n",
       "mean    -0.076154\n",
       "std      0.000287\n",
       "min     -0.076698\n",
       "25%     -0.076376\n",
       "50%     -0.076160\n",
       "75%     -0.075914\n",
       "max     -0.075392"
      ]
     },
     "execution_count": 95,
     "metadata": {},
     "output_type": "execute_result"
    }
   ],
   "source": [
    "# Descriptive Statistics of colour peak diff\n",
    "c_diff_data = pd.DataFrame(c_diff)\n",
    "c_diff_data.describe()"
   ]
  },
  {
   "cell_type": "markdown",
   "metadata": {},
   "source": [
    "* ftest1:       -0.080 till -0.073\n",
    "* ftest2:       -0.078 till -0.073\n",
    "* ftest3:       -0.080 till -0.074\n",
    "* test:         -0.100 till -0.072\n",
    "* ftest_build1: -0.077 till -0.074\n",
    "* ftest_build2: -0.080 till -0.074\n",
    "* ftest_build3: -0.080 till -0.074\n",
    "* ftest_lsl12:  -\n",
    "* final test:   -0.076 till -0.074"
   ]
  },
  {
   "cell_type": "code",
   "execution_count": 96,
   "metadata": {},
   "outputs": [
    {
     "data": {
      "text/html": [
       "<div>\n",
       "<style scoped>\n",
       "    .dataframe tbody tr th:only-of-type {\n",
       "        vertical-align: middle;\n",
       "    }\n",
       "\n",
       "    .dataframe tbody tr th {\n",
       "        vertical-align: top;\n",
       "    }\n",
       "\n",
       "    .dataframe thead th {\n",
       "        text-align: right;\n",
       "    }\n",
       "</style>\n",
       "<table border=\"1\" class=\"dataframe\">\n",
       "  <thead>\n",
       "    <tr style=\"text-align: right;\">\n",
       "      <th></th>\n",
       "      <th>0</th>\n",
       "    </tr>\n",
       "  </thead>\n",
       "  <tbody>\n",
       "    <tr>\n",
       "      <th>count</th>\n",
       "      <td>126.000000</td>\n",
       "    </tr>\n",
       "    <tr>\n",
       "      <th>mean</th>\n",
       "      <td>-0.083747</td>\n",
       "    </tr>\n",
       "    <tr>\n",
       "      <th>std</th>\n",
       "      <td>0.005148</td>\n",
       "    </tr>\n",
       "    <tr>\n",
       "      <th>min</th>\n",
       "      <td>-0.095069</td>\n",
       "    </tr>\n",
       "    <tr>\n",
       "      <th>25%</th>\n",
       "      <td>-0.087618</td>\n",
       "    </tr>\n",
       "    <tr>\n",
       "      <th>50%</th>\n",
       "      <td>-0.084059</td>\n",
       "    </tr>\n",
       "    <tr>\n",
       "      <th>75%</th>\n",
       "      <td>-0.080443</td>\n",
       "    </tr>\n",
       "    <tr>\n",
       "      <th>max</th>\n",
       "      <td>-0.072324</td>\n",
       "    </tr>\n",
       "  </tbody>\n",
       "</table>\n",
       "</div>"
      ],
      "text/plain": [
       "                0\n",
       "count  126.000000\n",
       "mean    -0.083747\n",
       "std      0.005148\n",
       "min     -0.095069\n",
       "25%     -0.087618\n",
       "50%     -0.084059\n",
       "75%     -0.080443\n",
       "max     -0.072324"
      ]
     },
     "execution_count": 96,
     "metadata": {},
     "output_type": "execute_result"
    }
   ],
   "source": [
    "# Descriptive Statistics of audio peak diff\n",
    "a_diff_data = pd.DataFrame(a_diff)\n",
    "a_diff_data.describe()"
   ]
  },
  {
   "cell_type": "code",
   "execution_count": null,
   "metadata": {},
   "outputs": [],
   "source": []
  }
 ],
 "metadata": {
  "kernelspec": {
   "display_name": "Python 3",
   "language": "python",
   "name": "python3"
  },
  "language_info": {
   "codemirror_mode": {
    "name": "ipython",
    "version": 3
   },
   "file_extension": ".py",
   "mimetype": "text/x-python",
   "name": "python",
   "nbconvert_exporter": "python",
   "pygments_lexer": "ipython3",
   "version": "3.6.9"
  }
 },
 "nbformat": 4,
 "nbformat_minor": 4
}
